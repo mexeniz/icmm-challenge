{
 "cells": [
  {
   "cell_type": "code",
   "execution_count": null,
   "metadata": {},
   "outputs": [],
   "source": [
    "from stravalib.client import Client\n",
    "from stravalib.model import Activity\n",
    "import csv\n",
    "import datetime\n",
    "import os\n",
    "import sys\n",
    "import inspect\n",
    "import datetime\n",
    "currentdir = os.path.dirname(os.path.abspath(\n",
    "    inspect.getfile(inspect.currentframe())))\n",
    "parentdir = os.path.dirname(currentdir)\n",
    "# Include paths for module search\n",
    "sys.path.insert(0, parentdir)\n",
    "from db import ChallengeDB\n",
    "from model import Run, Runner\n",
    "\n",
    "# Required ENV\n",
    "CLIENT_ID = os.environ[\"STRAVA_CLIENT_ID\"]\n",
    "CLIENT_SECRET = os.environ[\"STRAVA_CLIENT_SECRET\"]\n",
    "\n",
    "MONGODB_URI = os.environ[\"MONGODB_URI\"]\n",
    "DATABASE_NAME = os.environ[\"DATABASE_NAME\"]"
   ]
  },
  {
   "cell_type": "code",
   "execution_count": null,
   "metadata": {},
   "outputs": [],
   "source": [
    "now = datetime.datetime.now()\n",
    "timestamp = now.strftime(\"%Y-%m-%d %H:%M:%S\")\n",
    "report_postfix = now.strftime(\"%Y%m%d_%H%M%S\")\n",
    "print(timestamp)"
   ]
  },
  {
   "cell_type": "code",
   "execution_count": null,
   "metadata": {
    "collapsed": true
   },
   "outputs": [],
   "source": [
    "ChallengeDB.init(MONGODB_URI, DATABASE_NAME)"
   ]
  },
  {
   "cell_type": "code",
   "execution_count": null,
   "metadata": {},
   "outputs": [],
   "source": [
    "runs = ChallengeDB.find_run()"
   ]
  },
  {
   "cell_type": "code",
   "execution_count": 14,
   "metadata": {},
   "outputs": [],
   "source": [
    "runners = ChallengeDB.find_runner()"
   ]
  },
  {
   "cell_type": "code",
   "execution_count": null,
   "metadata": {},
   "outputs": [],
   "source": [
    "for run in runs:\n",
    "    print(run.to_doc())"
   ]
  },
  {
   "cell_type": "code",
   "execution_count": null,
   "metadata": {},
   "outputs": [],
   "source": [
    "for runner in runners:\n",
    "    print(runner.to_doc())"
   ]
  },
  {
   "cell_type": "code",
   "execution_count": 15,
   "metadata": {},
   "outputs": [],
   "source": [
    "run_report_path = \"run_report_%s.csv\" % (report_postfix)\n",
    "with open(run_report_path, 'w', newline='') as csvfile:\n",
    "    fieldnames = [\"timestamp\"] + list(runs[0].to_doc().keys())\n",
    "    writer = csv.DictWriter(csvfile, fieldnames=fieldnames)\n",
    "\n",
    "    writer.writeheader()\n",
    "    for run in runs:\n",
    "        row = run.to_doc()\n",
    "        row[\"timestamp\"] = timestamp\n",
    "        writer.writerow(row)"
   ]
  }
 ],
 "metadata": {
  "kernelspec": {
   "display_name": "Python 3",
   "language": "python",
   "name": "python3"
  },
  "language_info": {
   "codemirror_mode": {
    "name": "ipython",
    "version": 3
   },
   "file_extension": ".py",
   "mimetype": "text/x-python",
   "name": "python",
   "nbconvert_exporter": "python",
   "pygments_lexer": "ipython3",
   "version": "3.6.0"
  }
 },
 "nbformat": 4,
 "nbformat_minor": 2
}
