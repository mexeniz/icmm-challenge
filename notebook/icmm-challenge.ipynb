{
 "cells": [
  {
   "cell_type": "code",
   "execution_count": null,
   "metadata": {},
   "outputs": [],
   "source": [
    "from stravalib.client import Client\n",
    "from stravalib.model import Activity\n",
    "import csv\n",
    "import datetime\n",
    "import os\n",
    "import sys\n",
    "import inspect\n",
    "import datetime\n",
    "currentdir = os.path.dirname(os.path.abspath(\n",
    "    inspect.getfile(inspect.currentframe())))\n",
    "parentdir = os.path.dirname(currentdir)\n",
    "# Include paths for module search\n",
    "sys.path.insert(0, parentdir)\n",
    "from db import ChallengeDB\n",
    "from model import Run, Runner\n",
    "\n",
    "# Required ENV\n",
    "CLIENT_ID = os.environ[\"STRAVA_CLIENT_ID\"]\n",
    "CLIENT_SECRET = os.environ[\"STRAVA_CLIENT_SECRET\"]\n",
    "\n",
    "MONGODB_URI = os.environ[\"MONGODB_URI\"]\n",
    "DATABASE_NAME = os.environ[\"DATABASE_NAME\"]"
   ]
  },
  {
   "cell_type": "code",
   "execution_count": null,
   "metadata": {},
   "outputs": [],
   "source": [
    "now = datetime.datetime.now()\n",
    "timestamp = now.strftime(\"%Y-%b-%d %H:%M:%S\")\n",
    "report_postfix = now.strftime(\"%Y%%d_%H%M%S\")\n",
    "print(timestamp)"
   ]
  },
  {
   "cell_type": "code",
   "execution_count": null,
   "metadata": {
    "collapsed": true
   },
   "outputs": [],
   "source": [
    "ChallengeDB.init(MONGODB_URI, DATABASE_NAME)"
   ]
  },
  {
   "cell_type": "code",
   "execution_count": null,
   "metadata": {},
   "outputs": [],
   "source": [
    "runs = ChallengeDB.find_run()"
   ]
  },
  {
   "cell_type": "code",
   "execution_count": null,
   "metadata": {},
   "outputs": [],
   "source": [
    "runners = ChallengeDB.find_runner()"
   ]
  },
  {
   "cell_type": "code",
   "execution_count": null,
   "metadata": {},
   "outputs": [],
   "source": [
    "run_report_path = \"run_report_%s.csv\" % (report_postfix)\n",
    "with open(run_report_path, 'w', newline='') as csvfile:\n",
    "    fieldnames = [\"timestamp\"] + list(runs[0].to_doc().keys())\n",
    "    writer = csv.DictWriter(csvfile, fieldnames=fieldnames)\n",
    "\n",
    "    writer.writeheader()\n",
    "    for run in runs:\n",
    "        row = run.to_doc()\n",
    "        row[\"timestamp\"] = timestamp\n",
    "        writer.writerow(row)"
   ]
  },
  {
   "cell_type": "code",
   "execution_count": null,
   "metadata": {},
   "outputs": [],
   "source": [
    "runner_report_path = \"runner_report_%s.csv\" % (report_postfix)\n",
    "with open(runner_report_path, 'w', newline='') as csvfile:\n",
    "    fieldnames = [\"timestamp\",\"_id\", \"displayname\", \"intania\", \"createdAt\"]\n",
    "    writer = csv.DictWriter(csvfile, fieldnames=fieldnames)\n",
    "\n",
    "    writer.writeheader()\n",
    "    for runner in runners:\n",
    "        row = runner.to_doc()\n",
    "        row[\"timestamp\"] = timestamp\n",
    "        row = {key:row[key] for key in fieldnames}\n",
    "        writer.writerow(row)"
   ]
  },
  {
   "cell_type": "markdown",
   "metadata": {},
   "source": [
    "## Update Run"
   ]
  },
  {
   "cell_type": "code",
   "execution_count": null,
   "metadata": {},
   "outputs": [],
   "source": [
    "## Update Run\n",
    "CHALLENGE_START_DATE = datetime.datetime(2018, 10, 18, 17, 0)\n",
    "CHALLENGE_END_DATE = datetime.datetime(2019, 1, 11, 17, 0)"
   ]
  },
  {
   "cell_type": "code",
   "execution_count": null,
   "metadata": {},
   "outputs": [],
   "source": [
    "ChallengeDB.init(MONGODB_URI, DATABASE_NAME)\n",
    "# Read all runners that have intania from DB\n",
    "print(\"Get all runners from db\")\n",
    "runners = ChallengeDB.find_runner()\n",
    "n_runner = len(runners)\n",
    "print(\"Total runners: %d\" % (n_runner))\n",
    "# For each runners get their activities\n",
    "runs = []\n",
    "for idx, runner in enumerate(runners):\n",
    "    if runner.intania is None:\n",
    "        print(\"Skip runner with None intania: id=%s displayname='%s'\" % (runner.id, runner.displayname))\n",
    "        continue\n",
    "    client = Client(access_token=runner.access_token)\n",
    "    activities = client.get_activities(after=CHALLENGE_START_DATE, before=CHALLENGE_END_DATE)\n",
    "    print(\"Get activities: idx=%d/%d id=%s displayname='%s' intania:'%s'\" % (idx, n_runner-1, runner.id, runner.displayname, runner.intania))\n",
    "    for act in activities:\n",
    "        if act.type != Activity.RUN:\n",
    "            continue\n",
    "        run = Run.from_activity(act, runner.intania)\n",
    "        # Try to save activity to DB\n",
    "        if ChallengeDB.find_one_run({\"_id\":run.id}) is None:\n",
    "            # New run activity\n",
    "            ChallengeDB.insert_run(run)\n",
    "        runs.append(run)\n",
    "print(\"Total run activities: %d\" % (len(runs)))"
   ]
  },
  {
   "cell_type": "code",
   "execution_count": null,
   "metadata": {},
   "outputs": [],
   "source": []
  }
 ],
 "metadata": {
  "kernelspec": {
   "display_name": "Python 3",
   "language": "python",
   "name": "python3"
  },
  "language_info": {
   "codemirror_mode": {
    "name": "ipython",
    "version": 3
   },
   "file_extension": ".py",
   "mimetype": "text/x-python",
   "name": "python",
   "nbconvert_exporter": "python",
   "pygments_lexer": "ipython3",
   "version": "3.6.0"
  }
 },
 "nbformat": 4,
 "nbformat_minor": 2
}
